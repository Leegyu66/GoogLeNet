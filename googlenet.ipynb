{
  "nbformat": 4,
  "nbformat_minor": 0,
  "metadata": {
    "colab": {
      "provenance": [],
      "machine_shape": "hm",
      "mount_file_id": "19PATAU6KAg6IQxeOwcZ_1_eCsjcZSa-O",
      "authorship_tag": "ABX9TyOVWvcvqjTlO4I79CgoaMvk",
      "include_colab_link": true
    },
    "kernelspec": {
      "name": "python3",
      "display_name": "Python 3"
    },
    "language_info": {
      "name": "python"
    }
  },
  "cells": [
    {
      "cell_type": "markdown",
      "metadata": {
        "id": "view-in-github",
        "colab_type": "text"
      },
      "source": [
        "<a href=\"https://colab.research.google.com/github/Leegyu66/GoogLeNet/blob/main/googlenet.ipynb\" target=\"_parent\"><img src=\"https://colab.research.google.com/assets/colab-badge.svg\" alt=\"Open In Colab\"/></a>"
      ]
    },
    {
      "cell_type": "code",
      "execution_count": 1,
      "metadata": {
        "id": "4xrMNiGE4-HO"
      },
      "outputs": [],
      "source": [
        "from torch import nn\n",
        "import torch\n",
        "from torchvision import transforms, datasets\n",
        "from torch.utils.data import DataLoader, random_split\n",
        "from torch.optim import Adam\n",
        "from tqdm import tqdm\n",
        "import numpy as np\n",
        "import cv2"
      ]
    },
    {
      "cell_type": "code",
      "source": [
        "class InceptionBlock(nn.Module):\n",
        "  def __init__(self, in_channels, feature_maps):\n",
        "    super(InceptionBlock, self).__init__()\n",
        "    self.relu = nn.ReLU()\n",
        "    self.p1 = nn.Sequential(nn.Conv2d(in_channels, feature_maps[0], kernel_size=1, stride=1, padding=0), self.relu)\n",
        "    self.p2 = nn.Sequential(nn.Conv2d(in_channels, feature_maps[1], kernel_size=1, stride=1, padding=0), self.relu,\n",
        "                            nn.Conv2d(feature_maps[1], feature_maps[2], kernel_size=3, stride=1, padding=1), self.relu)\n",
        "    self.p3 = nn.Sequential(nn.Conv2d(in_channels, feature_maps[3], kernel_size=1, stride=1, padding=0), self.relu,\n",
        "                            nn.Conv2d(feature_maps[3], feature_maps[4], kernel_size=5, stride=1, padding=2), self.relu)\n",
        "    self.p4 = nn.Sequential(nn.MaxPool2d(kernel_size=3, stride=1, padding=1),\n",
        "                            nn.Conv2d(in_channels, feature_maps[5], kernel_size=1, stride=1, padding=0))\n",
        "\n",
        "  def forward(self, x):\n",
        "    out1 = self.p1(x)\n",
        "    out2 = self.p2(x)\n",
        "    out3 = self.p3(x)\n",
        "    out4 = self.p4(x)\n",
        "\n",
        "    return torch.cat((out1, out2, out3, out4), axis=1)\n",
        "\n",
        "class Aux(nn.Module):\n",
        "  def __init__(self, in_channels, classes):\n",
        "    super(Aux, self).__init__()\n",
        "    in_features = 4*4*128\n",
        "    self.relu = nn.ReLU()\n",
        "    self.flatten = nn.Flatten()\n",
        "    self.AvPool = nn.AvgPool2d(kernel_size=5, stride=3)\n",
        "    self.Conv = nn.Conv2d(in_channels, 128, kernel_size=1, stride=1, padding=0)\n",
        "    self.fc1 = nn.Linear(in_features=in_features, out_features=in_features)\n",
        "    self.fc2 = nn.Linear(in_features=in_features, out_features=classes)\n",
        "\n",
        "  def forward(self, x):\n",
        "    x = self.AvPool(x)\n",
        "    x = self.relu(self.Conv(x))\n",
        "    x = self.flatten(x)\n",
        "    x = self.relu(self.fc1(x))\n",
        "    x = self.fc2(x)\n",
        "    return x\n",
        "\n",
        "class GoogLeNet(nn.Module):\n",
        "  def __init__(self):\n",
        "    super(GoogLeNet, self).__init__()\n",
        "    classes = 10\n",
        "    in_channels = [192, 256, 480, 512, 512, 512, 528, 832, 832]\n",
        "    feature_maps = [[64, 96, 128, 16, 32, 32],\n",
        "                  [128, 128, 192, 32, 96, 64],\n",
        "                  [192, 96, 208, 16, 48, 64],\n",
        "                  [160, 112, 224, 24, 64, 64],\n",
        "                  [128, 128, 256, 24, 64, 64],\n",
        "                  [112, 144, 288, 32, 64, 64],\n",
        "                  [256, 160, 320, 32, 128, 128],\n",
        "                  [256, 160, 320, 32, 128, 128],\n",
        "                  [384, 192, 384, 48, 128, 128]]\n",
        "\n",
        "    self.relu = nn.ReLU()\n",
        "    self.Conv7x = nn.Conv2d(3, 64, kernel_size=7, stride=2, padding=3) # reduce 224x224 -> 112x112\n",
        "    self.MaxPool3x = nn.MaxPool2d(kernel_size=3, stride=2, padding=1)\n",
        "    self.LocalNorm = nn.LocalResponseNorm(size=5)\n",
        "    self.Conv1x = nn.Conv2d(64, 64, kernel_size=1, stride=1, padding=0)\n",
        "    self.Conv3x = nn.Conv2d(64, 192, kernel_size=3, stride=1, padding=1)\n",
        "\n",
        "    self.Blocks = nn.ModuleList([InceptionBlock(in_channels[i], feature_maps[i]) for i in range(len(in_channels))])\n",
        "\n",
        "    self.Aux1 = Aux(512, classes)\n",
        "    self.Aux2 = Aux(528, classes)\n",
        "\n",
        "    self.AvgPoolx = nn.AvgPool2d(kernel_size=7, stride=1, padding=0)\n",
        "    self.Dropoutx = nn.Dropout(0.4)\n",
        "    self.fc1 = nn.Linear(1024, classes)\n",
        "\n",
        "  def forward(self, x):\n",
        "    outputs = []\n",
        "    x = self.relu(self.Conv7x(x))\n",
        "    x = self.MaxPool3x(x)\n",
        "    x = self.LocalNorm(x)\n",
        "    x = self.relu(self.Conv1x(x))\n",
        "    x = self.relu(self.Conv3x(x))\n",
        "    x = self.LocalNorm(x)\n",
        "    x = self.MaxPool3x(x)\n",
        "\n",
        "    for i, block in enumerate(self.Blocks):\n",
        "      if i == 2 or i == 7:\n",
        "        x = self.MaxPool3x(x)\n",
        "      if i == 3:\n",
        "        outputs.append(self.Aux1(x))\n",
        "      elif i == 6:\n",
        "        outputs.append(self.Aux2(x))\n",
        "\n",
        "      x = block(x)\n",
        "\n",
        "    x = self.AvgPoolx(x)\n",
        "    x = torch.flatten(x, 1)\n",
        "    x = self.fc1(x)\n",
        "    outputs.append(x)\n",
        "\n",
        "    return outputs"
      ],
      "metadata": {
        "id": "MFsAGUDjLGEw"
      },
      "execution_count": 2,
      "outputs": []
    },
    {
      "cell_type": "code",
      "source": [
        "Inception = GoogLeNet()\n",
        "outs = Inception(torch.rand(16, 3, 224, 224))\n",
        "for out in outs:\n",
        "  print(out.shape)"
      ],
      "metadata": {
        "colab": {
          "base_uri": "https://localhost:8080/"
        },
        "id": "KH3iD-fjHhRo",
        "outputId": "a9897f13-796e-4daa-c99a-319d3906a07c"
      },
      "execution_count": 3,
      "outputs": [
        {
          "output_type": "stream",
          "name": "stdout",
          "text": [
            "torch.Size([16, 10])\n",
            "torch.Size([16, 10])\n",
            "torch.Size([16, 10])\n"
          ]
        }
      ]
    },
    {
      "cell_type": "code",
      "source": [
        "import torch.nn.functional as F\n",
        "\n",
        "epochs = 20\n",
        "batch_size = 64\n",
        "device = \"cuda\" if torch.cuda.is_available() else \"cpu\"\n",
        "loss = 0\n",
        "\n",
        "data_transforms = {\n",
        "    'train':transforms.Compose([\n",
        "        transforms.RandomResizedCrop(224),\n",
        "        transforms.RandomHorizontalFlip(),\n",
        "        transforms.ToTensor(),\n",
        "        transforms.Normalize([0.485, 0.456, 0.406], [0.229, 0.224, 0.225])\n",
        "    ]),\n",
        "    'val':transforms.Compose([\n",
        "        transforms.Resize(256),\n",
        "        transforms.CenterCrop(224),\n",
        "        transforms.ToTensor(),\n",
        "        transforms.Normalize([0.485, 0.456, 0.406], [0.229, 0.224, 0.225])\n",
        "    ]),\n",
        "}\n",
        "\n",
        "trainset = datasets.CIFAR10(\n",
        "    root='./data', train=True, download=True, transform=data_transforms['train']\n",
        ")\n",
        "\n",
        "testset = datasets.CIFAR10(\n",
        "    root='./data', train=False, download=True, transform=data_transforms['val']\n",
        ")\n",
        "\n",
        "data_length = len(trainset)\n",
        "train_length, valid_length = int(data_length*0.8), int(data_length*0.2)\n",
        "\n",
        "train_dataset, valid_dataset = random_split(trainset, [train_length, valid_length])\n",
        "\n",
        "\n",
        "train_loader = DataLoader(train_dataset, batch_size=batch_size, shuffle=True, drop_last=True)\n",
        "val_loader = DataLoader(valid_dataset, batch_size=batch_size, shuffle=True, drop_last=True)\n",
        "test_loader = DataLoader(testset, batch_size=batch_size, shuffle=True, drop_last=True)\n",
        "\n",
        "# model = Lenet(in_channels=in_channels, feature_maps=feature_maps, classes=10).to(device)\n",
        "model = GoogLeNet().to(device)\n",
        "\n",
        "optimizer = Adam(model.parameters(), lr=1e-3)\n",
        "\n",
        "criterion = nn.MultiLabelSoftMarginLoss().cuda()\n",
        "\n",
        "\n",
        "for epoch in range(epochs):\n",
        "  losses = []\n",
        "  for i, data in tqdm(enumerate(train_loader), desc=f\"Epoch: {epoch:03d}\"):\n",
        "    cost = 0\n",
        "    inputs, labels = data\n",
        "    inputs = torch.Tensor(inputs).to(device)\n",
        "    labels = torch.Tensor(labels).to(device)\n",
        "    labels = F.one_hot(labels, num_classes=10)\n",
        "\n",
        "    optimizer.zero_grad()\n",
        "\n",
        "    pred = model(inputs)\n",
        "    pred1, pred2, pred3 = pred[0], pred[1], pred[2]\n",
        "\n",
        "    loss1 = criterion(pred1, labels)\n",
        "    loss2 = criterion(pred2, labels)\n",
        "    loss3 = criterion(pred3, labels)\n",
        "\n",
        "    loss = loss1*0.3 + loss2*0.3 + loss3\n",
        "\n",
        "    losses.append(loss.item())\n",
        "\n",
        "    loss.backward()\n",
        "    optimizer.step()\n",
        "  print(np.mean(losses))\n",
        "  torch.save(model, f\"./model{epoch}.h5\")"
      ],
      "metadata": {
        "colab": {
          "base_uri": "https://localhost:8080/"
        },
        "id": "6zO9xj8cVVa1",
        "outputId": "1de7f218-b079-413e-d812-25b228bae243"
      },
      "execution_count": 4,
      "outputs": [
        {
          "output_type": "stream",
          "name": "stdout",
          "text": [
            "Downloading https://www.cs.toronto.edu/~kriz/cifar-10-python.tar.gz to ./data/cifar-10-python.tar.gz\n"
          ]
        },
        {
          "output_type": "stream",
          "name": "stderr",
          "text": [
            "100%|██████████| 170498071/170498071 [00:12<00:00, 13155420.54it/s]\n"
          ]
        },
        {
          "output_type": "stream",
          "name": "stdout",
          "text": [
            "Extracting ./data/cifar-10-python.tar.gz to ./data\n",
            "Files already downloaded and verified\n"
          ]
        },
        {
          "output_type": "stream",
          "name": "stderr",
          "text": [
            "Epoch: 000: 625it [01:22,  7.59it/s]\n"
          ]
        },
        {
          "output_type": "stream",
          "name": "stdout",
          "text": [
            "0.4972380997657776\n"
          ]
        },
        {
          "output_type": "stream",
          "name": "stderr",
          "text": [
            "Epoch: 001: 625it [01:19,  7.82it/s]\n"
          ]
        },
        {
          "output_type": "stream",
          "name": "stdout",
          "text": [
            "0.42943718972206113\n"
          ]
        },
        {
          "output_type": "stream",
          "name": "stderr",
          "text": [
            "Epoch: 002: 625it [01:19,  7.84it/s]\n"
          ]
        },
        {
          "output_type": "stream",
          "name": "stdout",
          "text": [
            "0.3976411973953247\n"
          ]
        },
        {
          "output_type": "stream",
          "name": "stderr",
          "text": [
            "Epoch: 003: 625it [01:19,  7.82it/s]\n"
          ]
        },
        {
          "output_type": "stream",
          "name": "stdout",
          "text": [
            "0.36772091464996337\n"
          ]
        },
        {
          "output_type": "stream",
          "name": "stderr",
          "text": [
            "Epoch: 004: 625it [01:20,  7.81it/s]\n"
          ]
        },
        {
          "output_type": "stream",
          "name": "stdout",
          "text": [
            "0.34239768018722533\n"
          ]
        },
        {
          "output_type": "stream",
          "name": "stderr",
          "text": [
            "Epoch: 005: 625it [01:20,  7.81it/s]\n"
          ]
        },
        {
          "output_type": "stream",
          "name": "stdout",
          "text": [
            "0.32367064023017883\n"
          ]
        },
        {
          "output_type": "stream",
          "name": "stderr",
          "text": [
            "Epoch: 006: 625it [01:19,  7.84it/s]\n"
          ]
        },
        {
          "output_type": "stream",
          "name": "stdout",
          "text": [
            "0.3095755968809128\n"
          ]
        },
        {
          "output_type": "stream",
          "name": "stderr",
          "text": [
            "Epoch: 007: 625it [01:19,  7.83it/s]\n"
          ]
        },
        {
          "output_type": "stream",
          "name": "stdout",
          "text": [
            "0.29772745263576506\n"
          ]
        },
        {
          "output_type": "stream",
          "name": "stderr",
          "text": [
            "Epoch: 008: 625it [01:19,  7.83it/s]\n"
          ]
        },
        {
          "output_type": "stream",
          "name": "stdout",
          "text": [
            "0.28819697382450105\n"
          ]
        },
        {
          "output_type": "stream",
          "name": "stderr",
          "text": [
            "Epoch: 009: 625it [01:19,  7.82it/s]\n"
          ]
        },
        {
          "output_type": "stream",
          "name": "stdout",
          "text": [
            "0.279314820933342\n"
          ]
        },
        {
          "output_type": "stream",
          "name": "stderr",
          "text": [
            "Epoch: 010: 625it [01:20,  7.81it/s]\n"
          ]
        },
        {
          "output_type": "stream",
          "name": "stdout",
          "text": [
            "0.27150783026218417\n"
          ]
        },
        {
          "output_type": "stream",
          "name": "stderr",
          "text": [
            "Epoch: 011: 625it [01:19,  7.82it/s]\n"
          ]
        },
        {
          "output_type": "stream",
          "name": "stdout",
          "text": [
            "0.2649074415445328\n"
          ]
        },
        {
          "output_type": "stream",
          "name": "stderr",
          "text": [
            "Epoch: 012: 625it [01:19,  7.82it/s]\n"
          ]
        },
        {
          "output_type": "stream",
          "name": "stdout",
          "text": [
            "0.2575050138473511\n"
          ]
        },
        {
          "output_type": "stream",
          "name": "stderr",
          "text": [
            "Epoch: 013: 625it [01:20,  7.79it/s]\n"
          ]
        },
        {
          "output_type": "stream",
          "name": "stdout",
          "text": [
            "0.2518394736289978\n"
          ]
        },
        {
          "output_type": "stream",
          "name": "stderr",
          "text": [
            "Epoch: 014: 625it [01:19,  7.84it/s]\n"
          ]
        },
        {
          "output_type": "stream",
          "name": "stdout",
          "text": [
            "0.24853754053115845\n"
          ]
        },
        {
          "output_type": "stream",
          "name": "stderr",
          "text": [
            "Epoch: 015: 625it [01:19,  7.82it/s]\n"
          ]
        },
        {
          "output_type": "stream",
          "name": "stdout",
          "text": [
            "0.24395599620342254\n"
          ]
        },
        {
          "output_type": "stream",
          "name": "stderr",
          "text": [
            "Epoch: 016: 625it [01:19,  7.83it/s]\n"
          ]
        },
        {
          "output_type": "stream",
          "name": "stdout",
          "text": [
            "0.24077872097492217\n"
          ]
        },
        {
          "output_type": "stream",
          "name": "stderr",
          "text": [
            "Epoch: 017: 625it [01:19,  7.83it/s]\n"
          ]
        },
        {
          "output_type": "stream",
          "name": "stdout",
          "text": [
            "0.23363730022907256\n"
          ]
        },
        {
          "output_type": "stream",
          "name": "stderr",
          "text": [
            "Epoch: 018: 625it [01:19,  7.84it/s]\n"
          ]
        },
        {
          "output_type": "stream",
          "name": "stdout",
          "text": [
            "0.23257938570976258\n"
          ]
        },
        {
          "output_type": "stream",
          "name": "stderr",
          "text": [
            "Epoch: 019: 625it [01:19,  7.82it/s]\n"
          ]
        },
        {
          "output_type": "stream",
          "name": "stdout",
          "text": [
            "0.23081538939476012\n"
          ]
        }
      ]
    },
    {
      "cell_type": "code",
      "source": [
        "correct = 0\n",
        "total = 0\n",
        "\n",
        "model.to(device)\n",
        "model.eval()\n",
        "with torch.no_grad():\n",
        "    for data in test_loader:\n",
        "        images, labels = data\n",
        "        images = images.to(device)\n",
        "        labels = labels.to(device)\n",
        "\n",
        "        outputs = model(images)[0]\n",
        "        _, predicted = torch.max(outputs.data, 1)\n",
        "        total += labels.size(0)\n",
        "        correct += (predicted == labels).sum().item()\n",
        "\n",
        "print('Accuracy of the network on the 10000 test images: %d %%' % (100 * correct / total))"
      ],
      "metadata": {
        "id": "jdoklyoEaHYb",
        "colab": {
          "base_uri": "https://localhost:8080/"
        },
        "outputId": "02b88321-3395-4cb6-9e0b-a4ecef9fefb3"
      },
      "execution_count": 61,
      "outputs": [
        {
          "output_type": "stream",
          "name": "stdout",
          "text": [
            "Accuracy of the network on the 10000 test images: 79 %\n"
          ]
        }
      ]
    },
    {
      "cell_type": "code",
      "source": [
        "import numpy as np\n",
        "import cv2\n",
        "import matplotlib.pyplot as plt\n",
        "import torchvision\n",
        "\n",
        "transform = transforms.Compose(\n",
        "    [transforms.ToTensor(),\n",
        "    #  transforms.RandomResizedCrop(224),\n",
        "     transforms.Normalize((0.5, 0.5, 0.5), (0.5, 0.5, 0.5))])\n",
        "\n",
        "batch_size = 4\n",
        "\n",
        "trainset = torchvision.datasets.CIFAR10(root='./data', train=True,\n",
        "                                        download=True, transform=transform)\n",
        "trainloader = torch.utils.data.DataLoader(trainset, batch_size=batch_size,\n",
        "                                          shuffle=True, num_workers=2)\n",
        "\n",
        "testset = torchvision.datasets.CIFAR10(root='./data', train=False,\n",
        "                                       download=True, transform=transform)\n",
        "testloader = torch.utils.data.DataLoader(testset, batch_size=batch_size,\n",
        "                                         shuffle=False, num_workers=2)\n",
        "\n",
        "classes = ('plane', 'car', 'bird', 'cat',\n",
        "           'deer', 'dog', 'frog', 'horse', 'ship', 'truck')\n",
        "\n",
        "def imshow(img):\n",
        "    img = img / 2 + 0.5     # unnormalize\n",
        "    npimg = img.numpy()\n",
        "    plt.imshow(np.transpose(npimg, (1, 2, 0)))\n",
        "    plt.show()\n",
        "\n",
        "data = iter(trainloader)\n",
        "image, label = next(data)\n",
        "\n",
        "matrix = np.random.rand(32, 32, 3)\n",
        "imshow(torchvision.utils.make_grid(image))"
      ],
      "metadata": {
        "id": "oYtMw6AsKh7n",
        "colab": {
          "base_uri": "https://localhost:8080/",
          "height": 230
        },
        "outputId": "ceb570d3-80d9-42e2-819a-65ace980b335"
      },
      "execution_count": null,
      "outputs": [
        {
          "output_type": "stream",
          "name": "stdout",
          "text": [
            "Files already downloaded and verified\n",
            "Files already downloaded and verified\n"
          ]
        },
        {
          "output_type": "display_data",
          "data": {
            "text/plain": [
              "<Figure size 640x480 with 1 Axes>"
            ],
            "image/png": "[encoded data removed]"
          },
          "metadata": {}
        }
      ]
    }
  ]
}